{
 "cells": [
  {
   "cell_type": "markdown",
   "metadata": {},
   "source": [
    "# Develop a hand gesture recognition that can accurately identify and classify different hand gestures from image data"
   ]
  },
  {
   "cell_type": "markdown",
   "metadata": {},
   "source": [
    "## 1. Importing the specific libraries"
   ]
  },
  {
   "cell_type": "code",
   "execution_count": 3,
   "metadata": {},
   "outputs": [],
   "source": [
    "import os\n",
    "import numpy as np\n",
    "from sklearn.model_selection import train_test_split\n",
    "from tensorflow.keras.utils import to_categorical\n",
    "from tensorflow.keras.preprocessing.image import img_to_array\n",
    "from tensorflow.keras.models import Model\n",
    "from tensorflow.keras.layers import Input,Conv2D, MaxPooling2D, Flatten, Dense, Dropout\n",
    "from tensorflow.keras.optimizers import Adam\n",
    "import mediapipe as mp\n",
    "import cv2"
   ]
  },
  {
   "cell_type": "code",
   "execution_count": 4,
   "metadata": {},
   "outputs": [],
   "source": [
    "folder_to_gesture = {\n",
    "    '01_palm': 'palm',\n",
    "    '02_l': 'l',\n",
    "    '03_fist': 'fist',\n",
    "    '04_fist_moved': 'fist_moved',\n",
    "    '05_thumb': 'thumb',\n",
    "    '06_index': 'index',\n",
    "    '07_ok': 'ok',\n",
    "    '08_palm_moved': 'palm_moved',\n",
    "    '09_c': 'c',\n",
    "    '010_down' : 'down'\n",
    "}"
   ]
  },
  {
   "cell_type": "markdown",
   "metadata": {},
   "source": [
    "## 2. Preprocessing the data"
   ]
  },
  {
   "cell_type": "code",
   "execution_count": 5,
   "metadata": {},
   "outputs": [],
   "source": [
    "def data(folder_parent, img_height, img_width):\n",
    "    x,y = [], []\n",
    "    gestures = set()\n",
    "\n",
    "    for folder in os.listdir(folder_parent):\n",
    "        child_folder = os.path.join(folder_parent, folder)\n",
    "        if os.path.isdir(child_folder):\n",
    "            for gesture_folder in os.listdir(child_folder):\n",
    "                gesture_photo = os.path.join(child_folder, gesture_folder)\n",
    "                gesture_label = folder_to_gesture.get(gesture_folder)\n",
    "                gestures.add(gesture_label)\n",
    "\n",
    "                for img_type in os.listdir(gesture_photo):\n",
    "                    img_path = os.path.join(gesture_photo, img_type)\n",
    "                    img = cv2.imread(img_path, cv2.IMREAD_GRAYSCALE)\n",
    "                    if img is not None:\n",
    "                        img = cv2.resize(img, (img_height, img_width))\n",
    "                        img = img_to_array(img)\n",
    "                        x.append(img)\n",
    "                        y.append(gesture_label)\n",
    "    gestures = list(gestures)\n",
    "    mapping = {gesture: idx for idx, gesture in enumerate(gestures)}\n",
    "    y = np.array([mapping[gesture] for gesture in y])\n",
    "\n",
    "    x = np.array(x , dtype=\"float\")/255.0\n",
    "    y = to_categorical(y, num_classes= len(gestures))\n",
    "\n",
    "    return x , y , gestures"
   ]
  },
  {
   "cell_type": "code",
   "execution_count": 6,
   "metadata": {},
   "outputs": [],
   "source": [
    "parent_folder = r\"C:\\Users\\mayank dandriyal\\Desktop\\prodigy_internship\\task4\\leapGestRecog\"\n",
    "height, width = 64,64"
   ]
  },
  {
   "cell_type": "code",
   "execution_count": 7,
   "metadata": {},
   "outputs": [],
   "source": [
    "x , y , gestures = data(parent_folder, height, width)"
   ]
  },
  {
   "cell_type": "code",
   "execution_count": 9,
   "metadata": {},
   "outputs": [
    {
     "data": {
      "text/plain": [
       "[None,\n",
       " 'l',\n",
       " 'index',\n",
       " 'palm',\n",
       " 'palm_moved',\n",
       " 'ok',\n",
       " 'c',\n",
       " 'fist',\n",
       " 'fist_moved',\n",
       " 'thumb']"
      ]
     },
     "execution_count": 9,
     "metadata": {},
     "output_type": "execute_result"
    }
   ],
   "source": [
    "gestures"
   ]
  },
  {
   "cell_type": "code",
   "execution_count": 10,
   "metadata": {},
   "outputs": [
    {
     "data": {
      "text/plain": [
       "array([[[[0.01960784],\n",
       "         [0.02352941],\n",
       "         [0.01568627],\n",
       "         ...,\n",
       "         [0.01176471],\n",
       "         [0.01568627],\n",
       "         [0.01568627]],\n",
       "\n",
       "        [[0.01568627],\n",
       "         [0.01960784],\n",
       "         [0.02352941],\n",
       "         ...,\n",
       "         [0.01176471],\n",
       "         [0.01568627],\n",
       "         [0.00784314]],\n",
       "\n",
       "        [[0.01568627],\n",
       "         [0.02352941],\n",
       "         [0.01568627],\n",
       "         ...,\n",
       "         [0.00784314],\n",
       "         [0.01176471],\n",
       "         [0.01568627]],\n",
       "\n",
       "        ...,\n",
       "\n",
       "        [[0.01960784],\n",
       "         [0.02352941],\n",
       "         [0.02352941],\n",
       "         ...,\n",
       "         [0.03137255],\n",
       "         [0.02352941],\n",
       "         [0.01960784]],\n",
       "\n",
       "        [[0.01960784],\n",
       "         [0.01960784],\n",
       "         [0.01568627],\n",
       "         ...,\n",
       "         [0.01960784],\n",
       "         [0.01960784],\n",
       "         [0.01960784]],\n",
       "\n",
       "        [[0.01568627],\n",
       "         [0.02352941],\n",
       "         [0.01960784],\n",
       "         ...,\n",
       "         [0.01568627],\n",
       "         [0.01960784],\n",
       "         [0.01568627]]],\n",
       "\n",
       "\n",
       "       [[[0.01568627],\n",
       "         [0.01568627],\n",
       "         [0.01176471],\n",
       "         ...,\n",
       "         [0.01176471],\n",
       "         [0.01176471],\n",
       "         [0.01176471]],\n",
       "\n",
       "        [[0.01568627],\n",
       "         [0.01568627],\n",
       "         [0.01568627],\n",
       "         ...,\n",
       "         [0.01176471],\n",
       "         [0.00784314],\n",
       "         [0.01176471]],\n",
       "\n",
       "        [[0.01568627],\n",
       "         [0.01176471],\n",
       "         [0.01568627],\n",
       "         ...,\n",
       "         [0.01176471],\n",
       "         [0.01176471],\n",
       "         [0.00784314]],\n",
       "\n",
       "        ...,\n",
       "\n",
       "        [[0.01960784],\n",
       "         [0.02352941],\n",
       "         [0.02745098],\n",
       "         ...,\n",
       "         [0.01568627],\n",
       "         [0.01568627],\n",
       "         [0.01176471]],\n",
       "\n",
       "        [[0.01568627],\n",
       "         [0.01960784],\n",
       "         [0.01960784],\n",
       "         ...,\n",
       "         [0.01568627],\n",
       "         [0.01568627],\n",
       "         [0.01176471]],\n",
       "\n",
       "        [[0.01960784],\n",
       "         [0.02352941],\n",
       "         [0.01960784],\n",
       "         ...,\n",
       "         [0.01568627],\n",
       "         [0.01568627],\n",
       "         [0.01960784]]],\n",
       "\n",
       "\n",
       "       [[[0.01568627],\n",
       "         [0.01568627],\n",
       "         [0.01176471],\n",
       "         ...,\n",
       "         [0.01176471],\n",
       "         [0.01176471],\n",
       "         [0.01176471]],\n",
       "\n",
       "        [[0.01568627],\n",
       "         [0.01568627],\n",
       "         [0.01568627],\n",
       "         ...,\n",
       "         [0.01176471],\n",
       "         [0.00784314],\n",
       "         [0.01176471]],\n",
       "\n",
       "        [[0.01568627],\n",
       "         [0.01176471],\n",
       "         [0.01568627],\n",
       "         ...,\n",
       "         [0.01176471],\n",
       "         [0.01176471],\n",
       "         [0.00784314]],\n",
       "\n",
       "        ...,\n",
       "\n",
       "        [[0.01960784],\n",
       "         [0.02352941],\n",
       "         [0.02745098],\n",
       "         ...,\n",
       "         [0.01568627],\n",
       "         [0.01568627],\n",
       "         [0.01176471]],\n",
       "\n",
       "        [[0.01568627],\n",
       "         [0.01960784],\n",
       "         [0.01960784],\n",
       "         ...,\n",
       "         [0.01568627],\n",
       "         [0.01568627],\n",
       "         [0.01176471]],\n",
       "\n",
       "        [[0.01960784],\n",
       "         [0.02352941],\n",
       "         [0.01960784],\n",
       "         ...,\n",
       "         [0.01568627],\n",
       "         [0.01568627],\n",
       "         [0.01960784]]],\n",
       "\n",
       "\n",
       "       ...,\n",
       "\n",
       "\n",
       "       [[[0.01960784],\n",
       "         [0.01960784],\n",
       "         [0.01568627],\n",
       "         ...,\n",
       "         [0.01568627],\n",
       "         [0.01568627],\n",
       "         [0.01176471]],\n",
       "\n",
       "        [[0.01960784],\n",
       "         [0.02352941],\n",
       "         [0.02352941],\n",
       "         ...,\n",
       "         [0.01568627],\n",
       "         [0.01960784],\n",
       "         [0.01568627]],\n",
       "\n",
       "        [[0.01568627],\n",
       "         [0.02352941],\n",
       "         [0.01960784],\n",
       "         ...,\n",
       "         [0.01568627],\n",
       "         [0.01568627],\n",
       "         [0.01176471]],\n",
       "\n",
       "        ...,\n",
       "\n",
       "        [[0.02352941],\n",
       "         [0.01568627],\n",
       "         [0.01960784],\n",
       "         ...,\n",
       "         [0.01568627],\n",
       "         [0.01568627],\n",
       "         [0.01960784]],\n",
       "\n",
       "        [[0.01960784],\n",
       "         [0.01568627],\n",
       "         [0.01568627],\n",
       "         ...,\n",
       "         [0.01568627],\n",
       "         [0.01568627],\n",
       "         [0.01176471]],\n",
       "\n",
       "        [[0.01568627],\n",
       "         [0.01960784],\n",
       "         [0.01176471],\n",
       "         ...,\n",
       "         [0.01568627],\n",
       "         [0.01176471],\n",
       "         [0.01568627]]],\n",
       "\n",
       "\n",
       "       [[[0.01568627],\n",
       "         [0.01568627],\n",
       "         [0.01176471],\n",
       "         ...,\n",
       "         [0.01176471],\n",
       "         [0.01568627],\n",
       "         [0.01176471]],\n",
       "\n",
       "        [[0.01568627],\n",
       "         [0.01960784],\n",
       "         [0.01960784],\n",
       "         ...,\n",
       "         [0.01176471],\n",
       "         [0.01176471],\n",
       "         [0.01568627]],\n",
       "\n",
       "        [[0.01568627],\n",
       "         [0.01960784],\n",
       "         [0.01568627],\n",
       "         ...,\n",
       "         [0.00784314],\n",
       "         [0.00784314],\n",
       "         [0.01176471]],\n",
       "\n",
       "        ...,\n",
       "\n",
       "        [[0.01176471],\n",
       "         [0.01568627],\n",
       "         [0.01176471],\n",
       "         ...,\n",
       "         [0.01568627],\n",
       "         [0.01176471],\n",
       "         [0.01568627]],\n",
       "\n",
       "        [[0.01960784],\n",
       "         [0.01568627],\n",
       "         [0.01568627],\n",
       "         ...,\n",
       "         [0.01568627],\n",
       "         [0.01568627],\n",
       "         [0.00784314]],\n",
       "\n",
       "        [[0.01568627],\n",
       "         [0.01568627],\n",
       "         [0.01568627],\n",
       "         ...,\n",
       "         [0.01568627],\n",
       "         [0.01176471],\n",
       "         [0.01176471]]],\n",
       "\n",
       "\n",
       "       [[[0.01568627],\n",
       "         [0.01960784],\n",
       "         [0.01568627],\n",
       "         ...,\n",
       "         [0.01568627],\n",
       "         [0.01176471],\n",
       "         [0.01568627]],\n",
       "\n",
       "        [[0.01960784],\n",
       "         [0.01960784],\n",
       "         [0.01568627],\n",
       "         ...,\n",
       "         [0.01960784],\n",
       "         [0.01176471],\n",
       "         [0.01568627]],\n",
       "\n",
       "        [[0.02745098],\n",
       "         [0.02352941],\n",
       "         [0.01960784],\n",
       "         ...,\n",
       "         [0.01568627],\n",
       "         [0.01568627],\n",
       "         [0.01568627]],\n",
       "\n",
       "        ...,\n",
       "\n",
       "        [[0.01568627],\n",
       "         [0.01568627],\n",
       "         [0.01176471],\n",
       "         ...,\n",
       "         [0.01568627],\n",
       "         [0.01568627],\n",
       "         [0.01176471]],\n",
       "\n",
       "        [[0.01960784],\n",
       "         [0.01568627],\n",
       "         [0.01568627],\n",
       "         ...,\n",
       "         [0.01176471],\n",
       "         [0.01568627],\n",
       "         [0.01568627]],\n",
       "\n",
       "        [[0.01568627],\n",
       "         [0.01568627],\n",
       "         [0.01568627],\n",
       "         ...,\n",
       "         [0.01176471],\n",
       "         [0.01176471],\n",
       "         [0.01568627]]]])"
      ]
     },
     "execution_count": 10,
     "metadata": {},
     "output_type": "execute_result"
    }
   ],
   "source": [
    "x"
   ]
  },
  {
   "cell_type": "code",
   "execution_count": 11,
   "metadata": {},
   "outputs": [
    {
     "data": {
      "text/plain": [
       "array([[0., 0., 0., ..., 0., 0., 0.],\n",
       "       [0., 0., 0., ..., 0., 0., 0.],\n",
       "       [0., 0., 0., ..., 0., 0., 0.],\n",
       "       ...,\n",
       "       [1., 0., 0., ..., 0., 0., 0.],\n",
       "       [1., 0., 0., ..., 0., 0., 0.],\n",
       "       [1., 0., 0., ..., 0., 0., 0.]])"
      ]
     },
     "execution_count": 11,
     "metadata": {},
     "output_type": "execute_result"
    }
   ],
   "source": [
    "y"
   ]
  },
  {
   "cell_type": "code",
   "execution_count": 12,
   "metadata": {},
   "outputs": [],
   "source": [
    "x_train, x_temp, y_train, y_temp = train_test_split(x , y , test_size= 0.2, random_state=42)\n",
    "x_val, x_test, y_val, y_test = train_test_split(x_temp, y_temp, test_size= 0.2, random_state= 42)"
   ]
  },
  {
   "cell_type": "code",
   "execution_count": 13,
   "metadata": {},
   "outputs": [
    {
     "name": "stdout",
     "output_type": "stream",
     "text": [
      "Total gestures : [None, 'l', 'index', 'palm', 'palm_moved', 'ok', 'c', 'fist', 'fist_moved', 'thumb']\n",
      "Training set : 16000\n",
      "Testing set : 800\n",
      "Validation set : 3200\n"
     ]
    }
   ],
   "source": [
    "print(f\"Total gestures : {gestures}\")\n",
    "print(f\"Training set : {len(x_train)}\")\n",
    "print(f\"Testing set : {len(x_test)}\")\n",
    "print(f\"Validation set : {len(x_val)}\")"
   ]
  },
  {
   "cell_type": "code",
   "execution_count": 14,
   "metadata": {},
   "outputs": [],
   "source": [
    "num_classes = len(gestures)"
   ]
  },
  {
   "cell_type": "markdown",
   "metadata": {},
   "source": [
    "## 3. Intializing CNN and fitting the model with the data"
   ]
  },
  {
   "cell_type": "code",
   "execution_count": 15,
   "metadata": {},
   "outputs": [],
   "source": [
    "input_layer = Input(shape= (height, width, 1))\n",
    "\n",
    "x = Conv2D(32, (3, 3), activation='relu')(input_layer)\n",
    "x = MaxPooling2D((2, 2))(x)\n",
    "x = Conv2D(64, (3, 3), activation='relu')(x)\n",
    "x = MaxPooling2D((2, 2))(x)\n",
    "x = Conv2D(128, (3, 3), activation='relu')(x)\n",
    "x = MaxPooling2D((2, 2))(x)\n",
    "x = Flatten()(x)\n",
    "x = Dense(128, activation='relu')(x)\n",
    "x = Dropout(0.5)(x)\n",
    "output_layer = Dense(num_classes, activation='softmax')(x)"
   ]
  },
  {
   "cell_type": "code",
   "execution_count": 16,
   "metadata": {},
   "outputs": [],
   "source": [
    "model = Model(inputs = input_layer, outputs = output_layer)"
   ]
  },
  {
   "cell_type": "code",
   "execution_count": 17,
   "metadata": {},
   "outputs": [],
   "source": [
    "model.compile(optimizer= Adam(), loss= 'categorical_crossentropy', metrics= ['accuracy'])"
   ]
  },
  {
   "cell_type": "code",
   "execution_count": 18,
   "metadata": {},
   "outputs": [
    {
     "name": "stdout",
     "output_type": "stream",
     "text": [
      "Epoch 1/30\n",
      "\u001b[1m500/500\u001b[0m \u001b[32m━━━━━━━━━━━━━━━━━━━━\u001b[0m\u001b[37m\u001b[0m \u001b[1m10s\u001b[0m 18ms/step - accuracy: 0.6651 - loss: 0.9547 - val_accuracy: 0.9956 - val_loss: 0.0135\n",
      "Epoch 2/30\n",
      "\u001b[1m500/500\u001b[0m \u001b[32m━━━━━━━━━━━━━━━━━━━━\u001b[0m\u001b[37m\u001b[0m \u001b[1m9s\u001b[0m 18ms/step - accuracy: 0.9841 - loss: 0.0516 - val_accuracy: 0.9997 - val_loss: 0.0025\n",
      "Epoch 3/30\n",
      "\u001b[1m500/500\u001b[0m \u001b[32m━━━━━━━━━━━━━━━━━━━━\u001b[0m\u001b[37m\u001b[0m \u001b[1m10s\u001b[0m 20ms/step - accuracy: 0.9888 - loss: 0.0347 - val_accuracy: 0.9981 - val_loss: 0.0061\n",
      "Epoch 4/30\n",
      "\u001b[1m500/500\u001b[0m \u001b[32m━━━━━━━━━━━━━━━━━━━━\u001b[0m\u001b[37m\u001b[0m \u001b[1m10s\u001b[0m 20ms/step - accuracy: 0.9908 - loss: 0.0275 - val_accuracy: 1.0000 - val_loss: 3.4432e-04\n",
      "Epoch 5/30\n",
      "\u001b[1m500/500\u001b[0m \u001b[32m━━━━━━━━━━━━━━━━━━━━\u001b[0m\u001b[37m\u001b[0m \u001b[1m10s\u001b[0m 20ms/step - accuracy: 0.9947 - loss: 0.0196 - val_accuracy: 0.9997 - val_loss: 7.4737e-04\n",
      "Epoch 6/30\n",
      "\u001b[1m500/500\u001b[0m \u001b[32m━━━━━━━━━━━━━━━━━━━━\u001b[0m\u001b[37m\u001b[0m \u001b[1m9s\u001b[0m 19ms/step - accuracy: 0.9925 - loss: 0.0241 - val_accuracy: 0.9997 - val_loss: 7.2220e-04\n",
      "Epoch 7/30\n",
      "\u001b[1m500/500\u001b[0m \u001b[32m━━━━━━━━━━━━━━━━━━━━\u001b[0m\u001b[37m\u001b[0m \u001b[1m10s\u001b[0m 20ms/step - accuracy: 0.9957 - loss: 0.0142 - val_accuracy: 1.0000 - val_loss: 2.7834e-04\n",
      "Epoch 8/30\n",
      "\u001b[1m500/500\u001b[0m \u001b[32m━━━━━━━━━━━━━━━━━━━━\u001b[0m\u001b[37m\u001b[0m \u001b[1m10s\u001b[0m 20ms/step - accuracy: 0.9952 - loss: 0.0154 - val_accuracy: 1.0000 - val_loss: 1.0358e-05\n",
      "Epoch 9/30\n",
      "\u001b[1m500/500\u001b[0m \u001b[32m━━━━━━━━━━━━━━━━━━━━\u001b[0m\u001b[37m\u001b[0m \u001b[1m9s\u001b[0m 19ms/step - accuracy: 0.9975 - loss: 0.0104 - val_accuracy: 0.9997 - val_loss: 8.9297e-04\n",
      "Epoch 10/30\n",
      "\u001b[1m500/500\u001b[0m \u001b[32m━━━━━━━━━━━━━━━━━━━━\u001b[0m\u001b[37m\u001b[0m \u001b[1m9s\u001b[0m 18ms/step - accuracy: 0.9969 - loss: 0.0106 - val_accuracy: 1.0000 - val_loss: 3.1547e-06\n",
      "Epoch 11/30\n",
      "\u001b[1m500/500\u001b[0m \u001b[32m━━━━━━━━━━━━━━━━━━━━\u001b[0m\u001b[37m\u001b[0m \u001b[1m9s\u001b[0m 18ms/step - accuracy: 0.9971 - loss: 0.0102 - val_accuracy: 1.0000 - val_loss: 1.0148e-04\n",
      "Epoch 12/30\n",
      "\u001b[1m500/500\u001b[0m \u001b[32m━━━━━━━━━━━━━━━━━━━━\u001b[0m\u001b[37m\u001b[0m \u001b[1m9s\u001b[0m 19ms/step - accuracy: 0.9982 - loss: 0.0055 - val_accuracy: 1.0000 - val_loss: 2.5491e-06\n",
      "Epoch 13/30\n",
      "\u001b[1m500/500\u001b[0m \u001b[32m━━━━━━━━━━━━━━━━━━━━\u001b[0m\u001b[37m\u001b[0m \u001b[1m9s\u001b[0m 19ms/step - accuracy: 0.9971 - loss: 0.0087 - val_accuracy: 1.0000 - val_loss: 1.7026e-05\n",
      "Epoch 14/30\n",
      "\u001b[1m500/500\u001b[0m \u001b[32m━━━━━━━━━━━━━━━━━━━━\u001b[0m\u001b[37m\u001b[0m \u001b[1m9s\u001b[0m 19ms/step - accuracy: 0.9987 - loss: 0.0037 - val_accuracy: 1.0000 - val_loss: 5.8579e-05\n",
      "Epoch 15/30\n",
      "\u001b[1m500/500\u001b[0m \u001b[32m━━━━━━━━━━━━━━━━━━━━\u001b[0m\u001b[37m\u001b[0m \u001b[1m9s\u001b[0m 19ms/step - accuracy: 0.9968 - loss: 0.0061 - val_accuracy: 0.9997 - val_loss: 0.0031\n",
      "Epoch 16/30\n",
      "\u001b[1m500/500\u001b[0m \u001b[32m━━━━━━━━━━━━━━━━━━━━\u001b[0m\u001b[37m\u001b[0m \u001b[1m9s\u001b[0m 19ms/step - accuracy: 0.9985 - loss: 0.0041 - val_accuracy: 1.0000 - val_loss: 2.2002e-05\n",
      "Epoch 17/30\n",
      "\u001b[1m500/500\u001b[0m \u001b[32m━━━━━━━━━━━━━━━━━━━━\u001b[0m\u001b[37m\u001b[0m \u001b[1m9s\u001b[0m 19ms/step - accuracy: 0.9987 - loss: 0.0063 - val_accuracy: 1.0000 - val_loss: 2.1606e-05\n",
      "Epoch 18/30\n",
      "\u001b[1m500/500\u001b[0m \u001b[32m━━━━━━━━━━━━━━━━━━━━\u001b[0m\u001b[37m\u001b[0m \u001b[1m9s\u001b[0m 19ms/step - accuracy: 0.9995 - loss: 0.0024 - val_accuracy: 1.0000 - val_loss: 1.9864e-05\n",
      "Epoch 19/30\n",
      "\u001b[1m500/500\u001b[0m \u001b[32m━━━━━━━━━━━━━━━━━━━━\u001b[0m\u001b[37m\u001b[0m \u001b[1m9s\u001b[0m 19ms/step - accuracy: 0.9991 - loss: 0.0025 - val_accuracy: 0.9997 - val_loss: 0.0015\n",
      "Epoch 20/30\n",
      "\u001b[1m500/500\u001b[0m \u001b[32m━━━━━━━━━━━━━━━━━━━━\u001b[0m\u001b[37m\u001b[0m \u001b[1m9s\u001b[0m 19ms/step - accuracy: 0.9987 - loss: 0.0054 - val_accuracy: 1.0000 - val_loss: 2.6086e-07\n",
      "Epoch 21/30\n",
      "\u001b[1m500/500\u001b[0m \u001b[32m━━━━━━━━━━━━━━━━━━━━\u001b[0m\u001b[37m\u001b[0m \u001b[1m9s\u001b[0m 19ms/step - accuracy: 0.9993 - loss: 0.0022 - val_accuracy: 1.0000 - val_loss: 2.0436e-06\n",
      "Epoch 22/30\n",
      "\u001b[1m500/500\u001b[0m \u001b[32m━━━━━━━━━━━━━━━━━━━━\u001b[0m\u001b[37m\u001b[0m \u001b[1m9s\u001b[0m 19ms/step - accuracy: 0.9997 - loss: 0.0015 - val_accuracy: 1.0000 - val_loss: 1.6187e-05\n",
      "Epoch 23/30\n",
      "\u001b[1m500/500\u001b[0m \u001b[32m━━━━━━━━━━━━━━━━━━━━\u001b[0m\u001b[37m\u001b[0m \u001b[1m9s\u001b[0m 19ms/step - accuracy: 0.9988 - loss: 0.0040 - val_accuracy: 0.9994 - val_loss: 0.0016\n",
      "Epoch 24/30\n",
      "\u001b[1m500/500\u001b[0m \u001b[32m━━━━━━━━━━━━━━━━━━━━\u001b[0m\u001b[37m\u001b[0m \u001b[1m9s\u001b[0m 19ms/step - accuracy: 0.9981 - loss: 0.0074 - val_accuracy: 1.0000 - val_loss: 2.3453e-07\n",
      "Epoch 25/30\n",
      "\u001b[1m500/500\u001b[0m \u001b[32m━━━━━━━━━━━━━━━━━━━━\u001b[0m\u001b[37m\u001b[0m \u001b[1m9s\u001b[0m 19ms/step - accuracy: 0.9995 - loss: 0.0012 - val_accuracy: 1.0000 - val_loss: 6.4315e-06\n",
      "Epoch 26/30\n",
      "\u001b[1m500/500\u001b[0m \u001b[32m━━━━━━━━━━━━━━━━━━━━\u001b[0m\u001b[37m\u001b[0m \u001b[1m9s\u001b[0m 19ms/step - accuracy: 0.9976 - loss: 0.0069 - val_accuracy: 1.0000 - val_loss: 2.1040e-07\n",
      "Epoch 27/30\n",
      "\u001b[1m500/500\u001b[0m \u001b[32m━━━━━━━━━━━━━━━━━━━━\u001b[0m\u001b[37m\u001b[0m \u001b[1m9s\u001b[0m 19ms/step - accuracy: 0.9993 - loss: 0.0020 - val_accuracy: 1.0000 - val_loss: 7.0400e-07\n",
      "Epoch 28/30\n",
      "\u001b[1m500/500\u001b[0m \u001b[32m━━━━━━━━━━━━━━━━━━━━\u001b[0m\u001b[37m\u001b[0m \u001b[1m9s\u001b[0m 19ms/step - accuracy: 0.9991 - loss: 0.0021 - val_accuracy: 0.9997 - val_loss: 5.5744e-04\n",
      "Epoch 29/30\n",
      "\u001b[1m500/500\u001b[0m \u001b[32m━━━━━━━━━━━━━━━━━━━━\u001b[0m\u001b[37m\u001b[0m \u001b[1m9s\u001b[0m 19ms/step - accuracy: 0.9995 - loss: 0.0023 - val_accuracy: 1.0000 - val_loss: 7.2011e-07\n",
      "Epoch 30/30\n",
      "\u001b[1m500/500\u001b[0m \u001b[32m━━━━━━━━━━━━━━━━━━━━\u001b[0m\u001b[37m\u001b[0m \u001b[1m9s\u001b[0m 19ms/step - accuracy: 0.9996 - loss: 0.0013 - val_accuracy: 1.0000 - val_loss: 2.8796e-08\n"
     ]
    },
    {
     "data": {
      "text/plain": [
       "<keras.src.callbacks.history.History at 0x1e45e258c80>"
      ]
     },
     "execution_count": 18,
     "metadata": {},
     "output_type": "execute_result"
    }
   ],
   "source": [
    "model.fit(x_train, y_train, epochs= 30, validation_data=(x_val, y_val), batch_size= 32)"
   ]
  },
  {
   "cell_type": "code",
   "execution_count": 19,
   "metadata": {},
   "outputs": [
    {
     "name": "stdout",
     "output_type": "stream",
     "text": [
      "\u001b[1m25/25\u001b[0m \u001b[32m━━━━━━━━━━━━━━━━━━━━\u001b[0m\u001b[37m\u001b[0m \u001b[1m0s\u001b[0m 7ms/step - accuracy: 1.0000 - loss: 3.8832e-10\n"
     ]
    }
   ],
   "source": [
    "Loss, Accuracy = model.evaluate(x_test, y_test)"
   ]
  },
  {
   "cell_type": "code",
   "execution_count": 20,
   "metadata": {},
   "outputs": [
    {
     "name": "stdout",
     "output_type": "stream",
     "text": [
      "The accuracy for this model is:- 1.0\n",
      "The loss for this model is:- 4.4703479806784685e-10\n"
     ]
    }
   ],
   "source": [
    "print(f\"The accuracy for this model is:- {Accuracy}\")\n",
    "print(f\"The loss for this model is:- {Loss}\")"
   ]
  },
  {
   "cell_type": "code",
   "execution_count": 21,
   "metadata": {},
   "outputs": [],
   "source": [
    "model.save(\"hand_gesture.keras\")"
   ]
  },
  {
   "cell_type": "markdown",
   "metadata": {},
   "source": [
    "## 4. Using cv2 to capture hand gestures from the camera and labelling them as predicted by the model"
   ]
  },
  {
   "cell_type": "code",
   "execution_count": 28,
   "metadata": {},
   "outputs": [],
   "source": [
    "mp_hands = mp.solutions.hands\n",
    "hands = mp_hands.Hands(static_image_mode=False, max_num_hands=1, min_detection_confidence=0.5, min_tracking_confidence=0.5)\n",
    "\n",
    "# Open the camera\n",
    "cap = cv2.VideoCapture(0)\n",
    "\n",
    "while True:\n",
    "    # Capture frame-by-frame\n",
    "    ret, frame = cap.read()\n",
    "    if not ret:\n",
    "        break\n",
    "\n",
    "    # Convert the frame to RGB\n",
    "    frame_rgb = cv2.cvtColor(frame, cv2.COLOR_BGR2RGB)\n",
    "\n",
    "    # Detect hand landmarks\n",
    "    results = hands.process(frame_rgb)\n",
    "\n",
    "    # Extract hand landmarks\n",
    "    if results.multi_hand_landmarks:\n",
    "        hand_landmarks = results.multi_hand_landmarks[0]  # Assuming only one hand is detected\n",
    "        hand_landmarks_np = np.array([[lm.x, lm.y] for lm in hand_landmarks.landmark]).flatten()\n",
    "        hand_landmarks_np = hand_landmarks_np.reshape(-1,2)\n",
    "        # Convert normalized coordinates to pixel coordinates\n",
    "        height, width, _ = frame.shape\n",
    "        hand_landmarks_px = np.multiply(hand_landmarks_np, [width, height]).astype(int)\n",
    "\n",
    "        # Extract ROI (Region of Interest) corresponding to the hand\n",
    "        min_x, min_y = np.min(hand_landmarks_px, axis=0)\n",
    "        max_x, max_y = np.max(hand_landmarks_px, axis=0)\n",
    "        if min_x< max_x and min_y < max_y:\n",
    "            hand_roi = frame[min_y:max_y, min_x:max_x]\n",
    "            if not hand_roi.size == 0:\n",
    "                hand_roi_resized = cv2.resize(hand_roi, (64, 64))\n",
    "                hand_roi_gray = cv2.cvtColor(hand_roi_resized, cv2.COLOR_BGR2GRAY)\n",
    "                hand_roi_normalized = hand_roi_gray / 255.0\n",
    "                hand_roi_input = np.expand_dims(hand_roi_normalized, axis=0)\n",
    "                hand_roi_input = np.expand_dims(hand_roi_input, axis=-1)  # Add batch and channel dimensions\n",
    "\n",
    "                # Predict hand gesture\n",
    "                prediction = model.predict(hand_roi_input)\n",
    "                predicted_gesture = gestures[np.argmax(prediction)]\n",
    "                cv2.putText(frame, \"Predicted Gesture: \" + predicted_gesture, (10, 30), cv2.FONT_HERSHEY_SIMPLEX, 1, (255, 255, 255), 2)\n",
    "            else:\n",
    "                print(\"Empty ROI. Skipping processing\")\n",
    "        else:\n",
    "            print(\"Invalid ROI\")\n",
    "\n",
    "        # Draw landmarks on the frame\n",
    "        for landmark in hand_landmarks.landmark:\n",
    "            x, y = int(landmark.x * width), int(landmark.y * height)\n",
    "            cv2.circle(frame, (x, y), 5, (0, 255, 0), -1)\n",
    "\n",
    "    # Display the frame\n",
    "    cv2.imshow('Hand Gesture Recognition', frame)\n",
    "\n",
    "    # Exit loop if 'q' is pressed\n",
    "    if cv2.waitKey(1) & 0xFF == ord('q'):\n",
    "        break\n",
    "\n",
    "# Release resources\n",
    "cap.release()\n",
    "cv2.destroyAllWindows()"
   ]
  },
  {
   "cell_type": "code",
   "execution_count": null,
   "metadata": {},
   "outputs": [],
   "source": []
  }
 ],
 "metadata": {
  "kernelspec": {
   "display_name": "Python 3",
   "language": "python",
   "name": "python3"
  },
  "language_info": {
   "codemirror_mode": {
    "name": "ipython",
    "version": 3
   },
   "file_extension": ".py",
   "mimetype": "text/x-python",
   "name": "python",
   "nbconvert_exporter": "python",
   "pygments_lexer": "ipython3",
   "version": "3.12.0"
  }
 },
 "nbformat": 4,
 "nbformat_minor": 2
}
